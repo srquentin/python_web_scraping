{
 "cells": [
  {
   "cell_type": "code",
   "execution_count": 1,
   "metadata": {},
   "outputs": [],
   "source": [
    "# 匯入套件\n",
    "from selenium import webdriver\n",
    "from selenium.common.exceptions import TimeoutException\n",
    "from selenium.webdriver.support.ui import WebDriverWait\n",
    "from selenium.webdriver.support import expected_conditions as EC\n",
    "from selenium.webdriver.common.by import By\n",
    "from time import sleep"
   ]
  },
  {
   "cell_type": "code",
   "execution_count": 5,
   "metadata": {},
   "outputs": [],
   "source": [
    "# 使用 Chrome 的 WebDriver\n",
    "driver = webdriver.Chrome()\n",
    "\n",
    "# 走訪網址\n",
    "driver.get('https://www.facebook.com/')\n",
    "\n",
    "# 輸入帳號\n",
    "inputEmail = driver.find_element_by_id('email') \n",
    "inputEmail.send_keys(\"你的帳號\")\n",
    "\n",
    "# 輸入密碼\n",
    "inputPwd = driver.find_element_by_id('pass')\n",
    "inputPwd.send_keys(\"你的密碼\")\n",
    "\n",
    "# 按下登入/送出鈕\n",
    "btnSubmit = driver.find_element_by_id('u_0_b')\n",
    "btnSubmit.click()\n",
    "\n",
    "# 強制等待 10 秒\n",
    "sleep(10)\n",
    "\n",
    "# 關閉瀏覽器\n",
    "driver.quit()"
   ]
  }
 ],
 "metadata": {
  "kernelspec": {
   "display_name": "Python 3",
   "language": "python",
   "name": "python3"
  },
  "language_info": {
   "codemirror_mode": {
    "name": "ipython",
    "version": 3
   },
   "file_extension": ".py",
   "mimetype": "text/x-python",
   "name": "python",
   "nbconvert_exporter": "python",
   "pygments_lexer": "ipython3",
   "version": "3.7.7"
  }
 },
 "nbformat": 4,
 "nbformat_minor": 4
}
