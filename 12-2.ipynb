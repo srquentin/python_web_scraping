{
 "cells": [
  {
   "cell_type": "code",
   "execution_count": 37,
   "metadata": {},
   "outputs": [],
   "source": [
    "# 匯入套件\n",
    "from bs4 import BeautifulSoup\n",
    "import requests"
   ]
  },
  {
   "cell_type": "code",
   "execution_count": 38,
   "metadata": {},
   "outputs": [],
   "source": [
    "# 取得新聞列表\n",
    "url = \"https://www.iiiedu.org.tw/category/news/\" \n",
    "\n",
    "# 用 requests 的 get 方法把網頁抓下來\n",
    "response = requests.get(url) \n",
    "\n",
    "# text 屬性就是 html 檔案\n",
    "html_doc = response.text \n",
    "\n",
    "# 指定 lxml 作為解析器\n",
    "soup = BeautifulSoup(response.text, \"lxml\") "
   ]
  },
  {
   "cell_type": "code",
   "execution_count": 39,
   "metadata": {},
   "outputs": [
    {
     "name": "stdout",
     "output_type": "stream",
     "text": [
      "玩出科技競爭力！資策會與中華電信聯名推出暑期科學營\n",
      "資策會聯手彰化縣推科技反毒！新科技反毒行動巡迴車開跑\n",
      "宅生活發威！VR虛擬博物館為疫情寒冬帶來正能量\n",
      "新冠擋不了! 跨國怎麼學AI? 研華科技與資策會共辦「臺泰AI學院」\n",
      "全民防疫E起來 臺灣智慧學習產業鏈不缺席\n",
      "防疫假學習不打烊！資策會提供線上學習程式大平台\n",
      "自二月一日起，停止各地PearsonVUE及Kryterion授權考試中心業務\n",
      "「銀髮輕鬆煮，健康樂活吃」  喚醒銀髮族的美食記憶\n",
      "數位浪潮來襲，企業轉型首重投資人才    資策會攜手美國ATD舉辦亞太區最大學習發展與人才培訓年會\n",
      "推動文化科技體驗新經濟 催生文化科技種子基金\n"
     ]
    }
   ],
   "source": [
    "# 取得 a 的文字\n",
    "for a in soup.select('article div.entry-content header.entry-header h2.entry-title a'):\n",
    "    print(a.get_text())"
   ]
  }
 ],
 "metadata": {
  "kernelspec": {
   "display_name": "Python 3",
   "language": "python",
   "name": "python3"
  },
  "language_info": {
   "codemirror_mode": {
    "name": "ipython",
    "version": 3
   },
   "file_extension": ".py",
   "mimetype": "text/x-python",
   "name": "python",
   "nbconvert_exporter": "python",
   "pygments_lexer": "ipython3",
   "version": "3.7.7"
  }
 },
 "nbformat": 4,
 "nbformat_minor": 4
}
