{
 "cells": [
  {
   "cell_type": "code",
   "execution_count": 10,
   "metadata": {},
   "outputs": [],
   "source": [
    "# 匯入套件\n",
    "from bs4 import BeautifulSoup\n",
    "import requests"
   ]
  },
  {
   "cell_type": "code",
   "execution_count": 11,
   "metadata": {},
   "outputs": [],
   "source": [
    "# PTT NBA 板\n",
    "url = \"https://www.ptt.cc/bbs/NBA/index.html\" \n",
    "\n",
    "# 用 requests 的 get 方法把網頁抓下來\n",
    "response = requests.get(url) \n",
    "\n",
    "# text 屬性就是 html 檔案\n",
    "html_doc = response.text \n",
    "\n",
    "# 指定 lxml 作為解析器\n",
    "soup = BeautifulSoup(response.text, \"lxml\") "
   ]
  },
  {
   "cell_type": "code",
   "execution_count": 12,
   "metadata": {},
   "outputs": [
    {
     "name": "stdout",
     "output_type": "stream",
     "text": [
      "看板 NBA 文章列表 - 批踢踢實業坊\n",
      "批踢踢實業坊\n"
     ]
    }
   ],
   "source": [
    "# 取得單一節點的文字內容\n",
    "print(soup.select('title')[0].get_text())\n",
    "print(soup.select('a')[0].get_text())"
   ]
  },
  {
   "cell_type": "code",
   "execution_count": 13,
   "metadata": {},
   "outputs": [
    {
     "name": "stdout",
     "output_type": "stream",
     "text": [
      "批踢踢實業坊\n",
      "看板 NBA\n",
      "關於我們\n",
      "聯絡資訊\n",
      "看板\n",
      "精華區\n",
      "最舊\n",
      "‹ 上頁\n",
      "下頁 ›\n",
      "最新\n",
      "[情報] Windhorst:聯盟季後賽名單截止線-鵜鶘\n",
      "搜尋同標題文章\n",
      "搜尋看板內 pneumo 的文章\n",
      "[情報] 兩年前的今天 火箭連續投丟27顆三分\n",
      "搜尋同標題文章\n",
      "搜尋看板內 crowley 的文章\n",
      "[公告] 板規v6.8\n",
      "搜尋同標題文章\n",
      "搜尋看板內 Vedan 的文章\n",
      "[公告] 版主上任相關事項 \n",
      "搜尋同標題文章\n",
      "搜尋看板內 qazwsx879345 的文章\n",
      "[情報] SEASON Schedule 賽程 March 19–20\n",
      "搜尋同標題文章\n",
      "搜尋看板內 Acetoxy 的文章\n",
      "[公告] 第一次被退文，可在三天後刪除退文\n",
      "搜尋同標題文章\n",
      "搜尋看板內 Vedan 的文章\n",
      "[公告] 板務說明 (發錢)\n",
      "搜尋同標題文章\n",
      "搜尋看板內 Vedan 的文章\n"
     ]
    }
   ],
   "source": [
    "# 透過迭代取得所有 a 的文字內容\n",
    "for a in soup.select('a'):\n",
    "    print(a.get_text())"
   ]
  }
 ],
 "metadata": {
  "kernelspec": {
   "display_name": "Python 3",
   "language": "python",
   "name": "python3"
  },
  "language_info": {
   "codemirror_mode": {
    "name": "ipython",
    "version": 3
   },
   "file_extension": ".py",
   "mimetype": "text/x-python",
   "name": "python",
   "nbconvert_exporter": "python",
   "pygments_lexer": "ipython3",
   "version": "3.7.7"
  }
 },
 "nbformat": 4,
 "nbformat_minor": 4
}
