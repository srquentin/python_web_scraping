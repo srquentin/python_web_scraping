{
 "cells": [
  {
   "cell_type": "code",
   "execution_count": 2,
   "metadata": {},
   "outputs": [],
   "source": [
    "# 匯入套件\n",
    "import requests, json"
   ]
  },
  {
   "cell_type": "code",
   "execution_count": 3,
   "metadata": {},
   "outputs": [
    {
     "name": "stdout",
     "output_type": "stream",
     "text": [
      "財團法人台北市文化基金會\n",
      "台北市文化基金會（台北偶戲館樓上）\n"
     ]
    }
   ],
   "source": [
    "# 參考網址: https://data.taipei/#/application\n",
    "r = requests.get('https://data.taipei/opendata/datalist/apiAccess?scope=resourceAquire&rid=35aa3c53-28fb-423c-91b6-2c22432d0d70&limit=100&offset=0');\n",
    "\n",
    "# 將 json 轉成物件\n",
    "obj = json.loads(r.text)\n",
    "\n",
    "# 輸出對應節點的文字\n",
    "print(obj['result']['results'][0]['ShowGroupName'])\n",
    "print(obj['result']['results'][0]['Location'])"
   ]
  },
  {
   "cell_type": "code",
   "execution_count": 4,
   "metadata": {},
   "outputs": [
    {
     "name": "stdout",
     "output_type": "stream",
     "text": [
      "台北市基督徒救世會\n",
      "網路活動\n"
     ]
    }
   ],
   "source": [
    "# 參考網址: https://data.taipei/#/application\n",
    "r = requests.get('https://data.taipei/opendata/datalist/apiAccess?scope=resourceAquire&rid=35aa3c53-28fb-423c-91b6-2c22432d0d70&limit=100&offset=100');\n",
    "\n",
    "# 將 json 轉成物件\n",
    "obj = json.loads(r.text)\n",
    "\n",
    "# 輸出對應節點的文字\n",
    "print(obj['result']['results'][0]['ShowGroupName'])\n",
    "print(obj['result']['results'][0]['Location'])"
   ]
  },
  {
   "cell_type": "code",
   "execution_count": 5,
   "metadata": {},
   "outputs": [
    {
     "name": "stdout",
     "output_type": "stream",
     "text": [
      "易禧創意\n",
      "易禧創意設計中心\n"
     ]
    }
   ],
   "source": [
    "# 參考網址: https://data.taipei/#/application\n",
    "r = requests.get('https://data.taipei/opendata/datalist/apiAccess?scope=resourceAquire&rid=35aa3c53-28fb-423c-91b6-2c22432d0d70&limit=100&offset=300');\n",
    "\n",
    "# 將 json 轉成物件\n",
    "obj = json.loads(r.text)\n",
    "\n",
    "# 輸出對應節點的文字\n",
    "print(obj['result']['results'][0]['ShowGroupName'])\n",
    "print(obj['result']['results'][0]['Location'])"
   ]
  }
 ],
 "metadata": {
  "kernelspec": {
   "display_name": "Python 3",
   "language": "python",
   "name": "python3"
  },
  "language_info": {
   "codemirror_mode": {
    "name": "ipython",
    "version": 3
   },
   "file_extension": ".py",
   "mimetype": "text/x-python",
   "name": "python",
   "nbconvert_exporter": "python",
   "pygments_lexer": "ipython3",
   "version": "3.7.7"
  }
 },
 "nbformat": 4,
 "nbformat_minor": 4
}
