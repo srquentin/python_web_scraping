{
 "cells": [
  {
   "cell_type": "code",
   "execution_count": null,
   "metadata": {},
   "outputs": [],
   "source": [
    "# 初始化一個 list\n",
    "ids = [1, 2, 3]\n",
    "\n",
    "print(\"目前 list 內容: {}\".format(ids))"
   ]
  },
  {
   "cell_type": "code",
   "execution_count": null,
   "metadata": {},
   "outputs": [],
   "source": [
    "# 新增元素\n",
    "ids.append(4)\n",
    "\n",
    "print(\"新增 {}\".format(4))\n",
    "\n",
    "print(\"目前 list 內容: {}\".format(ids))"
   ]
  },
  {
   "cell_type": "code",
   "execution_count": 4,
   "metadata": {},
   "outputs": [
    {
     "name": "stdout",
     "output_type": "stream",
     "text": [
      "目前 list 內容: [1, 2, 5, 4]\n"
     ]
    }
   ],
   "source": [
    "# 修改元素\n",
    "ids[2] = 5\n",
    "\n",
    "print(\"目前 list 內容: {}\".format(ids))"
   ]
  },
  {
   "cell_type": "code",
   "execution_count": 5,
   "metadata": {},
   "outputs": [
    {
     "name": "stdout",
     "output_type": "stream",
     "text": [
      "目前 list 內容: [1, 5, 4]\n"
     ]
    }
   ],
   "source": [
    "# 刪除元素\n",
    "ids.pop(1)\n",
    "\n",
    "print(\"目前 list 內容: {}\".format(ids))"
   ]
  },
  {
   "cell_type": "code",
   "execution_count": 6,
   "metadata": {
    "scrolled": true
   },
   "outputs": [
    {
     "name": "stdout",
     "output_type": "stream",
     "text": [
      "目前 list 內容: [1, 9, 5, 4]\n"
     ]
    }
   ],
   "source": [
    "# 新增元素在某元素之後\n",
    "ids.insert(1, 9)\n",
    "\n",
    "'''\n",
    "用法\n",
    "list.insert(index, elememt)\n",
    "\n",
    "說明\n",
    "If index is 0, the element is inserted at the beginning of the list.\n",
    "If index is 3, the element is inserted after the 3rd element. Its position will be 4th.\n",
    "'''\n",
    "\n",
    "print(\"目前 list 內容: {}\".format(ids))"
   ]
  },
  {
   "cell_type": "code",
   "execution_count": 7,
   "metadata": {},
   "outputs": [
    {
     "name": "stdout",
     "output_type": "stream",
     "text": [
      "目前 list 內容: [9, 5, 4]\n"
     ]
    }
   ],
   "source": [
    "# 移除指定的元素\n",
    "ids.remove(1)\n",
    "\n",
    "print(\"目前 list 內容: {}\".format(ids))"
   ]
  }
 ],
 "metadata": {
  "kernelspec": {
   "display_name": "Python 3",
   "language": "python",
   "name": "python3"
  },
  "language_info": {
   "codemirror_mode": {
    "name": "ipython",
    "version": 3
   },
   "file_extension": ".py",
   "mimetype": "text/x-python",
   "name": "python",
   "nbconvert_exporter": "python",
   "pygments_lexer": "ipython3",
   "version": "3.7.7"
  }
 },
 "nbformat": 4,
 "nbformat_minor": 4
}
