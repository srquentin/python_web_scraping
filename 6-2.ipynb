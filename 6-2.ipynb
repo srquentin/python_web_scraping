{
 "cells": [
  {
   "cell_type": "code",
   "execution_count": 72,
   "metadata": {},
   "outputs": [],
   "source": [
    "# 匯入 regex 套件\n",
    "import re"
   ]
  },
  {
   "cell_type": "code",
   "execution_count": 73,
   "metadata": {},
   "outputs": [
    {
     "name": "stdout",
     "output_type": "stream",
     "text": [
      "<re.Match object; span=(0, 10), match='A123456789'>\n",
      "A123456789\n",
      "1\n"
     ]
    }
   ],
   "source": [
    "# search\n",
    "regex01 = r'[a-zA-Z](1|2)\\d{8}'\n",
    "string01 = \"A123456789, S299888777\"\n",
    "match01 = re.search(regex01, string01)\n",
    "print(match01)\n",
    "'''\n",
    "說明\n",
    "re.search 會將整個字串進行搜尋，\n",
    "但只會比對到第一組，\n",
    "match[0]是regex所代表的整個完整比對的字串，\n",
    "match[1]是第一個()中的內容，\n",
    "match[2]是第二對()中的內容...\n",
    "'''\n",
    "print(match01[0])\n",
    "print(match01[1])"
   ]
  },
  {
   "cell_type": "code",
   "execution_count": 74,
   "metadata": {},
   "outputs": [
    {
     "name": "stdout",
     "output_type": "stream",
     "text": [
      "['0911111111', '0922222222', '0933333333']\n",
      "0911111111\n",
      "0933333333\n"
     ]
    }
   ],
   "source": [
    "# findall\n",
    "regex02 = r'[0-9]+'\n",
    "string02 = \"0911111111, 0922222222, 0933333333\"\n",
    "match02 = re.findall(regex02, string02)\n",
    "'''\n",
    "說明\n",
    "re.findall 會將所有配對到的字串\n",
    "回傳成一個 list\n",
    "'''\n",
    "print(match02)\n",
    "print(match02[0])\n",
    "print(match02[2])"
   ]
  },
  {
   "cell_type": "code",
   "execution_count": 75,
   "metadata": {},
   "outputs": [
    {
     "name": "stdout",
     "output_type": "stream",
     "text": [
      "<re.Match object; span=(0, 10), match='2020/06/10'>\n",
      "2020/06/10\n",
      "10\n"
     ]
    }
   ],
   "source": [
    "# match\n",
    "regex03 = r'2[0-9]{3}\\/[0-1]?[0-9]{1}\\/([1-3]?[0-9])'\n",
    "string03 = \"2020/06/10\"\n",
    "match03 = re.match(regex03, string03)\n",
    "print(match03)\n",
    "'''\n",
    "說明\n",
    "re.match 與 re.search 的差別，\n",
    "在於 match 會從字串的「開頭」開始比對，\n",
    "比對不到，便回傳 None\n",
    "'''\n",
    "print(match03[0])\n",
    "print(match03[1])"
   ]
  },
  {
   "cell_type": "code",
   "execution_count": 76,
   "metadata": {},
   "outputs": [
    {
     "name": "stdout",
     "output_type": "stream",
     "text": [
      "1992, 2019\n",
      "1992\n",
      "2019\n"
     ]
    }
   ],
   "source": [
    "# group\n",
    "regex04 = r'(1[0-9]{3}),?\\s(2[0-9]{3})'\n",
    "string04 = \"1992, 2019\"\n",
    "match04 = re.match(regex04, string04)\n",
    "'''\n",
    "說明\n",
    "group() 會輸出完整比對到的字串\n",
    "group(n) 輸出第n個比對到的內容\n",
    "'''\n",
    "print(match04.group())\n",
    "print(match04.group(1))\n",
    "print(match04.group(2))"
   ]
  },
  {
   "cell_type": "code",
   "execution_count": 78,
   "metadata": {},
   "outputs": [
    {
     "name": "stdout",
     "output_type": "stream",
     "text": [
      "['One', 'Two', 'Three', 'Four', '']\n"
     ]
    }
   ],
   "source": [
    "# split\n",
    "regex05 = r'\\d'\n",
    "string05 = \"One1Two2Three3Four4\"\n",
    "match05 = re.split(regex05, string05)\n",
    "'''\n",
    "說明\n",
    "re.split 類似 string.split('separator')，\n",
    "只是用正規表達式來作為 separator，\n",
    "並回傳 list\n",
    "'''\n",
    "print(match05)"
   ]
  }
 ],
 "metadata": {
  "kernelspec": {
   "display_name": "Python 3",
   "language": "python",
   "name": "python3"
  },
  "language_info": {
   "codemirror_mode": {
    "name": "ipython",
    "version": 3
   },
   "file_extension": ".py",
   "mimetype": "text/x-python",
   "name": "python",
   "nbconvert_exporter": "python",
   "pygments_lexer": "ipython3",
   "version": "3.7.7"
  }
 },
 "nbformat": 4,
 "nbformat_minor": 4
}
